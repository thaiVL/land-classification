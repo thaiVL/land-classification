{
 "cells": [
  {
   "cell_type": "code",
   "execution_count": 1,
   "metadata": {},
   "outputs": [
    {
     "name": "stdout",
     "output_type": "stream",
     "text": [
      "Num GPUs Available:  1\n"
     ]
    }
   ],
   "source": [
    "import tensorflow as tf\n",
    "import pandas as pd\n",
    "import matplotlib.pyplot as plt\n",
    "import numpy as np\n",
    "\n",
    "import sys, importlib\n",
    "from scripts.classes import Label, Sample\n",
    "import scripts.util as util\n",
    "importlib.reload(sys.modules['scripts.util'])\n",
    "\n",
    "\n",
    "\n",
    "print(\"Num GPUs Available: \", len(tf.config.list_physical_devices('GPU')))"
   ]
  },
  {
   "cell_type": "markdown",
   "metadata": {},
   "source": [
    "# Data loading step"
   ]
  },
  {
   "cell_type": "code",
   "execution_count": 2,
   "metadata": {},
   "outputs": [],
   "source": [
    "TRAIN_DATA = \"../data/EuroSatData/train.csv\"\n",
    "TEST_DATA = \"../data/EuroSatData/test.csv\"\n",
    "VALIDATION_DATA = \"../data/EuroSatData/validation.csv\"\n",
    "\n",
    "# Load data into pandas dataframe from csv files\n",
    "train_df = pd.read_csv(TRAIN_DATA)\n",
    "train_df[\"Filename\"] = \"../data/EuroSatData/\" + train_df[\"Filename\"].astype(str)\n",
    "test_df = pd.read_csv(TEST_DATA)\n",
    "test_df[\"Filename\"] = \"../data/EuroSatData/\" + test_df[\"Filename\"].astype(str)\n",
    "validation_df = pd.read_csv(VALIDATION_DATA)\n",
    "validation_df[\"Filename\"] = \"../data/EuroSatData/\" + validation_df[\"Filename\"].astype(str)"
   ]
  },
  {
   "cell_type": "code",
   "execution_count": 3,
   "metadata": {},
   "outputs": [],
   "source": [
    "# Load image data into new column called \"Image\"\n",
    "train_df[\"Image\"] = train_df[\"Filename\"].apply(util.read_img)\n",
    "test_df[\"Image\"] = test_df[\"Filename\"].apply(util.read_img)\n",
    "validation_df[\"Image\"] = validation_df[\"Filename\"].apply(util.read_img)"
   ]
  },
  {
   "cell_type": "code",
   "execution_count": 4,
   "metadata": {},
   "outputs": [],
   "source": [
    "# Prepare the x and y of each data set\n",
    "x_train, y_train = util.pd_series_to_tensor(train_df[\"Image\"]), train_df[\"Label\"].values\n",
    "x_test, y_test = util.pd_series_to_tensor(test_df[\"Image\"]), test_df[\"Label\"].values\n",
    "x_validation, y_validation = util.pd_series_to_tensor(validation_df[\"Image\"]), validation_df[\"Label\"].values"
   ]
  },
  {
   "cell_type": "markdown",
   "metadata": {},
   "source": [
    "# Model set up and training"
   ]
  },
  {
   "cell_type": "code",
   "execution_count": 5,
   "metadata": {},
   "outputs": [],
   "source": [
    "pretrained_vgg16 = tf.keras.applications.vgg16.VGG16(include_top=False, input_shape=(64, 64, 3))"
   ]
  },
  {
   "cell_type": "code",
   "execution_count": 6,
   "metadata": {},
   "outputs": [
    {
     "name": "stdout",
     "output_type": "stream",
     "text": [
      "Model: \"vgg16\"\n",
      "_________________________________________________________________\n",
      " Layer (type)                Output Shape              Param #   \n",
      "=================================================================\n",
      " input_1 (InputLayer)        [(None, 64, 64, 3)]       0         \n",
      "                                                                 \n",
      " block1_conv1 (Conv2D)       (None, 64, 64, 64)        1792      \n",
      "                                                                 \n",
      " block1_conv2 (Conv2D)       (None, 64, 64, 64)        36928     \n",
      "                                                                 \n",
      " block1_pool (MaxPooling2D)  (None, 32, 32, 64)        0         \n",
      "                                                                 \n",
      " block2_conv1 (Conv2D)       (None, 32, 32, 128)       73856     \n",
      "                                                                 \n",
      " block2_conv2 (Conv2D)       (None, 32, 32, 128)       147584    \n",
      "                                                                 \n",
      " block2_pool (MaxPooling2D)  (None, 16, 16, 128)       0         \n",
      "                                                                 \n",
      " block3_conv1 (Conv2D)       (None, 16, 16, 256)       295168    \n",
      "                                                                 \n",
      " block3_conv2 (Conv2D)       (None, 16, 16, 256)       590080    \n",
      "                                                                 \n",
      " block3_conv3 (Conv2D)       (None, 16, 16, 256)       590080    \n",
      "                                                                 \n",
      " block3_pool (MaxPooling2D)  (None, 8, 8, 256)         0         \n",
      "                                                                 \n",
      " block4_conv1 (Conv2D)       (None, 8, 8, 512)         1180160   \n",
      "                                                                 \n",
      " block4_conv2 (Conv2D)       (None, 8, 8, 512)         2359808   \n",
      "                                                                 \n",
      " block4_conv3 (Conv2D)       (None, 8, 8, 512)         2359808   \n",
      "                                                                 \n",
      " block4_pool (MaxPooling2D)  (None, 4, 4, 512)         0         \n",
      "                                                                 \n",
      " block5_conv1 (Conv2D)       (None, 4, 4, 512)         2359808   \n",
      "                                                                 \n",
      " block5_conv2 (Conv2D)       (None, 4, 4, 512)         2359808   \n",
      "                                                                 \n",
      " block5_conv3 (Conv2D)       (None, 4, 4, 512)         2359808   \n",
      "                                                                 \n",
      " block5_pool (MaxPooling2D)  (None, 2, 2, 512)         0         \n",
      "                                                                 \n",
      "=================================================================\n",
      "Total params: 14,714,688\n",
      "Trainable params: 14,714,688\n",
      "Non-trainable params: 0\n",
      "_________________________________________________________________\n"
     ]
    }
   ],
   "source": [
    "pretrained_vgg16.summary()"
   ]
  },
  {
   "cell_type": "code",
   "execution_count": 7,
   "metadata": {},
   "outputs": [],
   "source": [
    "model = tf.keras.Sequential()"
   ]
  },
  {
   "cell_type": "code",
   "execution_count": 8,
   "metadata": {},
   "outputs": [],
   "source": [
    "# Ignore the last layer, which is the dense layers\n",
    "for layer in pretrained_vgg16.layers:\n",
    "  layer.trainable = False\n",
    "  model.add(layer)"
   ]
  },
  {
   "cell_type": "code",
   "execution_count": 9,
   "metadata": {},
   "outputs": [
    {
     "name": "stdout",
     "output_type": "stream",
     "text": [
      "Model: \"sequential\"\n",
      "_________________________________________________________________\n",
      " Layer (type)                Output Shape              Param #   \n",
      "=================================================================\n",
      " block1_conv1 (Conv2D)       (None, 64, 64, 64)        1792      \n",
      "                                                                 \n",
      " block1_conv2 (Conv2D)       (None, 64, 64, 64)        36928     \n",
      "                                                                 \n",
      " block1_pool (MaxPooling2D)  (None, 32, 32, 64)        0         \n",
      "                                                                 \n",
      " block2_conv1 (Conv2D)       (None, 32, 32, 128)       73856     \n",
      "                                                                 \n",
      " block2_conv2 (Conv2D)       (None, 32, 32, 128)       147584    \n",
      "                                                                 \n",
      " block2_pool (MaxPooling2D)  (None, 16, 16, 128)       0         \n",
      "                                                                 \n",
      " block3_conv1 (Conv2D)       (None, 16, 16, 256)       295168    \n",
      "                                                                 \n",
      " block3_conv2 (Conv2D)       (None, 16, 16, 256)       590080    \n",
      "                                                                 \n",
      " block3_conv3 (Conv2D)       (None, 16, 16, 256)       590080    \n",
      "                                                                 \n",
      " block3_pool (MaxPooling2D)  (None, 8, 8, 256)         0         \n",
      "                                                                 \n",
      " block4_conv1 (Conv2D)       (None, 8, 8, 512)         1180160   \n",
      "                                                                 \n",
      " block4_conv2 (Conv2D)       (None, 8, 8, 512)         2359808   \n",
      "                                                                 \n",
      " block4_conv3 (Conv2D)       (None, 8, 8, 512)         2359808   \n",
      "                                                                 \n",
      " block4_pool (MaxPooling2D)  (None, 4, 4, 512)         0         \n",
      "                                                                 \n",
      " block5_conv1 (Conv2D)       (None, 4, 4, 512)         2359808   \n",
      "                                                                 \n",
      " block5_conv2 (Conv2D)       (None, 4, 4, 512)         2359808   \n",
      "                                                                 \n",
      " block5_conv3 (Conv2D)       (None, 4, 4, 512)         2359808   \n",
      "                                                                 \n",
      " block5_pool (MaxPooling2D)  (None, 2, 2, 512)         0         \n",
      "                                                                 \n",
      "=================================================================\n",
      "Total params: 14,714,688\n",
      "Trainable params: 0\n",
      "Non-trainable params: 14,714,688\n",
      "_________________________________________________________________\n"
     ]
    }
   ],
   "source": [
    "model.summary()"
   ]
  },
  {
   "cell_type": "code",
   "execution_count": 10,
   "metadata": {},
   "outputs": [],
   "source": [
    "model.add(tf.keras.layers.Flatten())\n",
    "model.add(tf.keras.layers.Dense(units=10))\n",
    "model.add(tf.keras.layers.Activation(\"softmax\"))"
   ]
  },
  {
   "cell_type": "code",
   "execution_count": 11,
   "metadata": {},
   "outputs": [
    {
     "name": "stdout",
     "output_type": "stream",
     "text": [
      "Model: \"sequential\"\n",
      "_________________________________________________________________\n",
      " Layer (type)                Output Shape              Param #   \n",
      "=================================================================\n",
      " block1_conv1 (Conv2D)       (None, 64, 64, 64)        1792      \n",
      "                                                                 \n",
      " block1_conv2 (Conv2D)       (None, 64, 64, 64)        36928     \n",
      "                                                                 \n",
      " block1_pool (MaxPooling2D)  (None, 32, 32, 64)        0         \n",
      "                                                                 \n",
      " block2_conv1 (Conv2D)       (None, 32, 32, 128)       73856     \n",
      "                                                                 \n",
      " block2_conv2 (Conv2D)       (None, 32, 32, 128)       147584    \n",
      "                                                                 \n",
      " block2_pool (MaxPooling2D)  (None, 16, 16, 128)       0         \n",
      "                                                                 \n",
      " block3_conv1 (Conv2D)       (None, 16, 16, 256)       295168    \n",
      "                                                                 \n",
      " block3_conv2 (Conv2D)       (None, 16, 16, 256)       590080    \n",
      "                                                                 \n",
      " block3_conv3 (Conv2D)       (None, 16, 16, 256)       590080    \n",
      "                                                                 \n",
      " block3_pool (MaxPooling2D)  (None, 8, 8, 256)         0         \n",
      "                                                                 \n",
      " block4_conv1 (Conv2D)       (None, 8, 8, 512)         1180160   \n",
      "                                                                 \n",
      " block4_conv2 (Conv2D)       (None, 8, 8, 512)         2359808   \n",
      "                                                                 \n",
      " block4_conv3 (Conv2D)       (None, 8, 8, 512)         2359808   \n",
      "                                                                 \n",
      " block4_pool (MaxPooling2D)  (None, 4, 4, 512)         0         \n",
      "                                                                 \n",
      " block5_conv1 (Conv2D)       (None, 4, 4, 512)         2359808   \n",
      "                                                                 \n",
      " block5_conv2 (Conv2D)       (None, 4, 4, 512)         2359808   \n",
      "                                                                 \n",
      " block5_conv3 (Conv2D)       (None, 4, 4, 512)         2359808   \n",
      "                                                                 \n",
      " block5_pool (MaxPooling2D)  (None, 2, 2, 512)         0         \n",
      "                                                                 \n",
      " flatten (Flatten)           (None, 2048)              0         \n",
      "                                                                 \n",
      " dense (Dense)               (None, 10)                20490     \n",
      "                                                                 \n",
      " activation (Activation)     (None, 10)                0         \n",
      "                                                                 \n",
      "=================================================================\n",
      "Total params: 14,735,178\n",
      "Trainable params: 20,490\n",
      "Non-trainable params: 14,714,688\n",
      "_________________________________________________________________\n"
     ]
    }
   ],
   "source": [
    "model.summary()"
   ]
  },
  {
   "cell_type": "code",
   "execution_count": 12,
   "metadata": {},
   "outputs": [],
   "source": [
    "# lr_sched = tf.keras.optimizers.schedules.ExponentialDecay(\n",
    "#   initial_learning_rate=0.001,\n",
    "#   decay_steps=10000,\n",
    "#   decay_rate=0.9\n",
    "# )\n",
    "\n",
    "model.compile(\n",
    "  optimizer=tf.optimizers.Adam(learning_rate=0.001),\n",
    "  loss=tf.losses.SparseCategoricalCrossentropy(),\n",
    "  metrics=[\"accuracy\"]\n",
    ")"
   ]
  },
  {
   "cell_type": "code",
   "execution_count": 13,
   "metadata": {},
   "outputs": [
    {
     "name": "stdout",
     "output_type": "stream",
     "text": [
      "Epoch 1/20\n",
      "1182/1182 - 85s - loss: 0.7354 - accuracy: 0.7570 - val_loss: 0.5519 - val_accuracy: 0.8148 - 85s/epoch - 72ms/step\n",
      "Epoch 2/20\n",
      "1182/1182 - 65s - loss: 0.4862 - accuracy: 0.8356 - val_loss: 0.5075 - val_accuracy: 0.8315 - 65s/epoch - 55ms/step\n",
      "Epoch 3/20\n",
      "1182/1182 - 80s - loss: 0.4213 - accuracy: 0.8593 - val_loss: 0.4459 - val_accuracy: 0.8494 - 80s/epoch - 68ms/step\n",
      "Epoch 4/20\n",
      "1182/1182 - 72s - loss: 0.3830 - accuracy: 0.8721 - val_loss: 0.4331 - val_accuracy: 0.8561 - 72s/epoch - 61ms/step\n",
      "Epoch 5/20\n",
      "1182/1182 - 57s - loss: 0.3537 - accuracy: 0.8808 - val_loss: 0.4137 - val_accuracy: 0.8570 - 57s/epoch - 48ms/step\n",
      "Epoch 6/20\n",
      "1182/1182 - 59s - loss: 0.3351 - accuracy: 0.8884 - val_loss: 0.4044 - val_accuracy: 0.8641 - 59s/epoch - 50ms/step\n",
      "Epoch 7/20\n",
      "1182/1182 - 38s - loss: 0.3174 - accuracy: 0.8922 - val_loss: 0.4112 - val_accuracy: 0.8624 - 38s/epoch - 32ms/step\n",
      "Epoch 8/20\n",
      "1182/1182 - 49s - loss: 0.3029 - accuracy: 0.8978 - val_loss: 0.4022 - val_accuracy: 0.8635 - 49s/epoch - 42ms/step\n",
      "Epoch 9/20\n",
      "1182/1182 - 47s - loss: 0.2907 - accuracy: 0.9015 - val_loss: 0.3933 - val_accuracy: 0.8672 - 47s/epoch - 40ms/step\n",
      "Epoch 10/20\n",
      "1182/1182 - 56s - loss: 0.2789 - accuracy: 0.9066 - val_loss: 0.3826 - val_accuracy: 0.8702 - 56s/epoch - 47ms/step\n",
      "Epoch 11/20\n",
      "1182/1182 - 41s - loss: 0.2690 - accuracy: 0.9088 - val_loss: 0.3992 - val_accuracy: 0.8694 - 41s/epoch - 35ms/step\n",
      "Epoch 12/20\n",
      "1182/1182 - 42s - loss: 0.2627 - accuracy: 0.9128 - val_loss: 0.3804 - val_accuracy: 0.8780 - 42s/epoch - 35ms/step\n",
      "Epoch 13/20\n",
      "1182/1182 - 46s - loss: 0.2532 - accuracy: 0.9152 - val_loss: 0.3892 - val_accuracy: 0.8704 - 46s/epoch - 39ms/step\n",
      "Epoch 14/20\n",
      "1182/1182 - 28s - loss: 0.2466 - accuracy: 0.9174 - val_loss: 0.3852 - val_accuracy: 0.8730 - 28s/epoch - 24ms/step\n",
      "Epoch 15/20\n",
      "1182/1182 - 24s - loss: 0.2376 - accuracy: 0.9216 - val_loss: 0.3711 - val_accuracy: 0.8780 - 24s/epoch - 20ms/step\n",
      "Epoch 16/20\n",
      "1182/1182 - 21s - loss: 0.2338 - accuracy: 0.9219 - val_loss: 0.3853 - val_accuracy: 0.8730 - 21s/epoch - 18ms/step\n",
      "Epoch 17/20\n",
      "1182/1182 - 22s - loss: 0.2288 - accuracy: 0.9240 - val_loss: 0.3788 - val_accuracy: 0.8778 - 22s/epoch - 19ms/step\n",
      "Epoch 18/20\n",
      "1182/1182 - 22s - loss: 0.2214 - accuracy: 0.9278 - val_loss: 0.3890 - val_accuracy: 0.8711 - 22s/epoch - 18ms/step\n",
      "Epoch 19/20\n",
      "1182/1182 - 23s - loss: 0.2167 - accuracy: 0.9281 - val_loss: 0.3973 - val_accuracy: 0.8715 - 23s/epoch - 19ms/step\n",
      "Epoch 20/20\n",
      "1182/1182 - 23s - loss: 0.2124 - accuracy: 0.9294 - val_loss: 0.3888 - val_accuracy: 0.8756 - 23s/epoch - 20ms/step\n"
     ]
    }
   ],
   "source": [
    "# NOTE: Possible batch_size configuration\n",
    "train_history = model.fit(x=x_train, y=y_train, validation_data=(x_validation, y_validation), batch_size=16, epochs=20, verbose=2)"
   ]
  },
  {
   "cell_type": "code",
   "execution_count": null,
   "metadata": {},
   "outputs": [],
   "source": [
    "# Show train losses and accuracy here"
   ]
  },
  {
   "cell_type": "code",
   "execution_count": 14,
   "metadata": {},
   "outputs": [
    {
     "name": "stdout",
     "output_type": "stream",
     "text": [
      "85/85 - 101s - 101s/epoch - 1s/step\n"
     ]
    }
   ],
   "source": [
    "# NOTE: Possible batch_size configuration\n",
    "prediction = model.predict(x=x_test, verbose=2)\n",
    "y_prediction = np.argmax(prediction, axis=1)"
   ]
  },
  {
   "cell_type": "code",
   "execution_count": 15,
   "metadata": {},
   "outputs": [
    {
     "data": {
      "text/plain": [
       "0.8818518518518519"
      ]
     },
     "execution_count": 15,
     "metadata": {},
     "output_type": "execute_result"
    }
   ],
   "source": [
    "correct = y_test == y_prediction\n",
    "accuracy = np.sum(correct)/2700\n",
    "accuracy"
   ]
  },
  {
   "cell_type": "code",
   "execution_count": null,
   "metadata": {},
   "outputs": [],
   "source": []
  }
 ],
 "metadata": {
  "kernelspec": {
   "display_name": "jupyter",
   "language": "python",
   "name": "python3"
  },
  "language_info": {
   "codemirror_mode": {
    "name": "ipython",
    "version": 3
   },
   "file_extension": ".py",
   "mimetype": "text/x-python",
   "name": "python",
   "nbconvert_exporter": "python",
   "pygments_lexer": "ipython3",
   "version": "3.9.18"
  }
 },
 "nbformat": 4,
 "nbformat_minor": 2
}
